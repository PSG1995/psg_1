{
 "cells": [
  {
   "cell_type": "code",
   "execution_count": 1,
   "id": "f4dab73b",
   "metadata": {},
   "outputs": [],
   "source": [
    "from selenium import webdriver\n",
    "from bs4 import BeautifulSoup"
   ]
  },
  {
   "cell_type": "code",
   "execution_count": 2,
   "id": "92d3f839",
   "metadata": {},
   "outputs": [
    {
     "data": {
      "text/plain": [
       "'C:\\\\Users\\\\qkrtm'"
      ]
     },
     "execution_count": 2,
     "metadata": {},
     "output_type": "execute_result"
    }
   ],
   "source": [
    "import os\n",
    "os.getcwd()"
   ]
  },
  {
   "cell_type": "code",
   "execution_count": 3,
   "id": "92c8bdae",
   "metadata": {},
   "outputs": [],
   "source": [
    "import time\n",
    "\n",
    "url = 'https://pythonstart.github.io/web/'\n",
    "start = time.time()\n",
    "driver = webdriver.Chrome('chromedriver')\n",
    "driver.get(url)"
   ]
  },
  {
   "cell_type": "code",
   "execution_count": 4,
   "id": "18e6f61d",
   "metadata": {},
   "outputs": [
    {
     "data": {
      "text/plain": [
       "[<selenium.webdriver.remote.webelement.WebElement (session=\"0afec353b64be8f6a976a77214538235\", element=\"8f83fb2b-7640-4357-a593-7ef2b4d70610\")>,\n",
       " <selenium.webdriver.remote.webelement.WebElement (session=\"0afec353b64be8f6a976a77214538235\", element=\"1bf7ab23-5812-4b20-bd75-611be7e33138\")>,\n",
       " <selenium.webdriver.remote.webelement.WebElement (session=\"0afec353b64be8f6a976a77214538235\", element=\"e4db5599-3793-40df-8b0b-4c5baf3722d9\")>,\n",
       " <selenium.webdriver.remote.webelement.WebElement (session=\"0afec353b64be8f6a976a77214538235\", element=\"dc021c29-ec2d-44b9-beca-7d806411c8b4\")>,\n",
       " <selenium.webdriver.remote.webelement.WebElement (session=\"0afec353b64be8f6a976a77214538235\", element=\"afb102ef-830d-4a58-b4ac-65fcf26b6188\")>,\n",
       " <selenium.webdriver.remote.webelement.WebElement (session=\"0afec353b64be8f6a976a77214538235\", element=\"bc95963c-9efe-48df-bb9f-b106ac2bc98f\")>,\n",
       " <selenium.webdriver.remote.webelement.WebElement (session=\"0afec353b64be8f6a976a77214538235\", element=\"e480aad3-fcd0-4a41-8519-c11bc0ffeae5\")>,\n",
       " <selenium.webdriver.remote.webelement.WebElement (session=\"0afec353b64be8f6a976a77214538235\", element=\"8f5238ba-1ec9-4769-8d2e-c97e06eb80f8\")>,\n",
       " <selenium.webdriver.remote.webelement.WebElement (session=\"0afec353b64be8f6a976a77214538235\", element=\"42163e25-f67f-45fb-952d-a83fddef91b2\")>,\n",
       " <selenium.webdriver.remote.webelement.WebElement (session=\"0afec353b64be8f6a976a77214538235\", element=\"759651eb-8bbc-4fea-bc2b-731ecbe1f872\")>]"
      ]
     },
     "execution_count": 4,
     "metadata": {},
     "output_type": "execute_result"
    }
   ],
   "source": [
    "### 링크 정보 가져오기\n",
    "a_tag = driver.find_elements_by_css_selector(\"ul a\")\n",
    "a_tag"
   ]
  },
  {
   "cell_type": "code",
   "execution_count": 5,
   "id": "e1d17ae1",
   "metadata": {},
   "outputs": [
    {
     "data": {
      "text/plain": [
       "'01. 제목 가져오기(title)'"
      ]
     },
     "execution_count": 5,
     "metadata": {},
     "output_type": "execute_result"
    }
   ],
   "source": [
    "a_tag = driver.find_element_by_css_selector(\"ul a\")\n",
    "a_tag.text"
   ]
  },
  {
   "cell_type": "code",
   "execution_count": 6,
   "id": "d77c9238",
   "metadata": {},
   "outputs": [
    {
     "data": {
      "text/plain": [
       "'my web page'"
      ]
     },
     "execution_count": 6,
     "metadata": {},
     "output_type": "execute_result"
    }
   ],
   "source": [
    "# body 밑에 h1선택\n",
    "a_tag = driver.find_element_by_css_selector(\"body h1\")\n",
    "a_tag.text"
   ]
  },
  {
   "cell_type": "code",
   "execution_count": 7,
   "id": "372b880e",
   "metadata": {},
   "outputs": [
    {
     "data": {
      "text/plain": [
       "'10. 랭킹 정보 가져오기(웹 크롤링)'"
      ]
     },
     "execution_count": 7,
     "metadata": {},
     "output_type": "execute_result"
    }
   ],
   "source": [
    "# a태그(id ='rank' 선택)\n",
    "a_tag = driver.find_element_by_css_selector('a#rank')\n",
    "a_tag.text"
   ]
  },
  {
   "cell_type": "code",
   "execution_count": 8,
   "id": "631bef8c",
   "metadata": {},
   "outputs": [
    {
     "data": {
      "text/plain": [
       "'my web page'"
      ]
     },
     "execution_count": 8,
     "metadata": {},
     "output_type": "execute_result"
    }
   ],
   "source": [
    "# h1요소 선택\n",
    "a_tag = driver.find_element_by_css_selector(\"h1\")\n",
    "a_tag.text"
   ]
  },
  {
   "cell_type": "code",
   "execution_count": 9,
   "id": "0eb2e0be",
   "metadata": {},
   "outputs": [
    {
     "data": {
      "text/plain": [
       "[<selenium.webdriver.remote.webelement.WebElement (session=\"0afec353b64be8f6a976a77214538235\", element=\"8f83fb2b-7640-4357-a593-7ef2b4d70610\")>,\n",
       " <selenium.webdriver.remote.webelement.WebElement (session=\"0afec353b64be8f6a976a77214538235\", element=\"1bf7ab23-5812-4b20-bd75-611be7e33138\")>,\n",
       " <selenium.webdriver.remote.webelement.WebElement (session=\"0afec353b64be8f6a976a77214538235\", element=\"e4db5599-3793-40df-8b0b-4c5baf3722d9\")>,\n",
       " <selenium.webdriver.remote.webelement.WebElement (session=\"0afec353b64be8f6a976a77214538235\", element=\"dc021c29-ec2d-44b9-beca-7d806411c8b4\")>,\n",
       " <selenium.webdriver.remote.webelement.WebElement (session=\"0afec353b64be8f6a976a77214538235\", element=\"afb102ef-830d-4a58-b4ac-65fcf26b6188\")>,\n",
       " <selenium.webdriver.remote.webelement.WebElement (session=\"0afec353b64be8f6a976a77214538235\", element=\"bc95963c-9efe-48df-bb9f-b106ac2bc98f\")>,\n",
       " <selenium.webdriver.remote.webelement.WebElement (session=\"0afec353b64be8f6a976a77214538235\", element=\"e480aad3-fcd0-4a41-8519-c11bc0ffeae5\")>,\n",
       " <selenium.webdriver.remote.webelement.WebElement (session=\"0afec353b64be8f6a976a77214538235\", element=\"8f5238ba-1ec9-4769-8d2e-c97e06eb80f8\")>,\n",
       " <selenium.webdriver.remote.webelement.WebElement (session=\"0afec353b64be8f6a976a77214538235\", element=\"42163e25-f67f-45fb-952d-a83fddef91b2\")>,\n",
       " <selenium.webdriver.remote.webelement.WebElement (session=\"0afec353b64be8f6a976a77214538235\", element=\"759651eb-8bbc-4fea-bc2b-731ecbe1f872\")>]"
      ]
     },
     "execution_count": 9,
     "metadata": {},
     "output_type": "execute_result"
    }
   ],
   "source": [
    "# a태그 전체 선택\n",
    "a_tag = driver.find_elements_by_css_selector(\"a\")\n",
    "a_tag"
   ]
  },
  {
   "cell_type": "code",
   "execution_count": 10,
   "id": "ba533a1a",
   "metadata": {},
   "outputs": [
    {
     "data": {
      "text/plain": [
       "11"
      ]
     },
     "execution_count": 10,
     "metadata": {},
     "output_type": "execute_result"
    }
   ],
   "source": [
    "#h1, a태그 전체 선택\n",
    "a_tag = driver.find_elements_by_css_selector(\"h1, a\")\n",
    "len(a_tag)"
   ]
  },
  {
   "cell_type": "code",
   "execution_count": 11,
   "id": "6f92124d",
   "metadata": {},
   "outputs": [
    {
     "data": {
      "text/plain": [
       "<title>나의 웹 페이지</title>"
      ]
     },
     "execution_count": 11,
     "metadata": {},
     "output_type": "execute_result"
    }
   ],
   "source": [
    "## 주어진 페이지 구조화\n",
    "soup = BeautifulSoup(driver.page_source, 'lxml')\n",
    "soup.title"
   ]
  },
  {
   "cell_type": "code",
   "execution_count": 12,
   "id": "e21adb85",
   "metadata": {},
   "outputs": [
    {
     "data": {
      "text/plain": [
       "[<ul>\n",
       " <a href=\"./01.html\" name=\"link_get\" target=\"_blank\"> 01. 제목 가져오기(title) </a> <br/>\n",
       " <a href=\"./02.html\" name=\"text_get\" target=\"_blank\"> 02. 텍스트 가져오기(p) </a> <br/>\n",
       " <a href=\"./03.html\" name=\"link_get\" target=\"_blank\"> 03. 링크 가져오기(a) </a> <br/>\n",
       " <a href=\"https://pythonstart.github.io/web/04.html\" target=\"_blank\"> 04. 이미지 정보 가져오기(img) </a> <br/>\n",
       " <a href=\"./05.html\" target=\"_blank\"> 05. 리스트 정보 가져오기(ul,ol) </a> <br/>\n",
       " <a href=\"./06.html\" target=\"_blank\"> 06. id를 활용한 정보 획득 </a> <br/>\n",
       " <a href=\"./07.html\" target=\"_blank\"> 07. class를 활용한 정보 획득 </a> <br/>\n",
       " <a href=\"./08.html\" target=\"_blank\"> 08. 하나의 이미지 다운로드 </a> <br/>\n",
       " <a href=\"https://pythonstart.github.io/web/09.html\" target=\"_blank\"> 09. 여러개의 이미지 다운로드 </a> <br/>\n",
       " <a href=\"./10.html\" id=\"rank\" target=\"_blank\"> 10. 랭킹 정보 가져오기(웹 크롤링) </a> <br/>\n",
       " </ul>]"
      ]
     },
     "execution_count": 12,
     "metadata": {},
     "output_type": "execute_result"
    }
   ],
   "source": [
    "soup.select('ul')"
   ]
  },
  {
   "cell_type": "code",
   "execution_count": 13,
   "id": "39f7bdcd",
   "metadata": {},
   "outputs": [
    {
     "data": {
      "text/plain": [
       "[<a href=\"./10.html\" id=\"rank\" target=\"_blank\"> 10. 랭킹 정보 가져오기(웹 크롤링) </a>]"
      ]
     },
     "execution_count": 13,
     "metadata": {},
     "output_type": "execute_result"
    }
   ],
   "source": [
    "soup.select(\"#rank\")"
   ]
  },
  {
   "cell_type": "code",
   "execution_count": 14,
   "id": "52565c5b",
   "metadata": {},
   "outputs": [],
   "source": [
    "driver.get(\"https://pythonstart.github.io/web/07.html\")"
   ]
  },
  {
   "cell_type": "code",
   "execution_count": 15,
   "id": "7fa4cf04",
   "metadata": {},
   "outputs": [],
   "source": [
    "## 주어진 페이지 구조화\n",
    "soup = BeautifulSoup(driver.page_source, 'lxml')\n",
    "soup.title"
   ]
  },
  {
   "cell_type": "code",
   "execution_count": 16,
   "id": "545a21dd",
   "metadata": {},
   "outputs": [
    {
     "data": {
      "text/plain": [
       "[<div class=\"word\">\n",
       " 오늘의 인기 키워드\n",
       " <ul>\n",
       " <li class=\"kw\">냉면</li>\n",
       " <li class=\"kw\">감자</li>\n",
       " <li class=\"kw\">오늘의 영화</li>\n",
       " <li class=\"kw\">할수있어</li>\n",
       " </ul>\n",
       " </div>]"
      ]
     },
     "execution_count": 16,
     "metadata": {},
     "output_type": "execute_result"
    }
   ],
   "source": [
    "soup.select('div.word')"
   ]
  },
  {
   "cell_type": "code",
   "execution_count": 17,
   "id": "e59b709b",
   "metadata": {},
   "outputs": [
    {
     "data": {
      "text/plain": [
       "<html><head></head><body>\n",
       "<div class=\"character\">\n",
       "오늘의 인기 캐릭터\n",
       "<ul>\n",
       "<li class=\"game\">파이터</li>\n",
       "<li class=\"game\">솔루히</li>\n",
       "<li class=\"game\">무적대장</li>\n",
       "<li class=\"game\">수호대장</li>\n",
       "</ul>\n",
       "</div>\n",
       "<div class=\"word\">\n",
       "오늘의 인기 키워드\n",
       "<ul>\n",
       "<li class=\"kw\">냉면</li>\n",
       "<li class=\"kw\">감자</li>\n",
       "<li class=\"kw\">오늘의 영화</li>\n",
       "<li class=\"kw\">할수있어</li>\n",
       "</ul>\n",
       "</div>\n",
       "<div class=\"comment\">\n",
       "오늘의 인기 댓글\n",
       "<ul>\n",
       "<li>냉면이 맛있어 보인다.</li>\n",
       "<li>연기가 조금 어색해.</li>\n",
       "<li>오늘의 영화로서 손색이 없어.</li>\n",
       "<li>할수 있다는 맘이 생겨.</li>\n",
       "</ul>\n",
       "</div>\n",
       "</body></html>"
      ]
     },
     "execution_count": 17,
     "metadata": {},
     "output_type": "execute_result"
    }
   ],
   "source": [
    "soup"
   ]
  },
  {
   "cell_type": "code",
   "execution_count": 22,
   "id": "e8a37add",
   "metadata": {},
   "outputs": [
    {
     "name": "stdout",
     "output_type": "stream",
     "text": [
      "냉면\n",
      "감자\n",
      "오늘의 영화\n",
      "할수있어\n"
     ]
    }
   ],
   "source": [
    "words = soup.select(\"div.word ul li.kw\")\n",
    "for _ in words:\n",
    "    print(_.text)"
   ]
  },
  {
   "cell_type": "code",
   "execution_count": null,
   "id": "2692dada",
   "metadata": {},
   "outputs": [],
   "source": []
  }
 ],
 "metadata": {
  "kernelspec": {
   "display_name": "Python 3",
   "language": "python",
   "name": "python3"
  },
  "language_info": {
   "codemirror_mode": {
    "name": "ipython",
    "version": 3
   },
   "file_extension": ".py",
   "mimetype": "text/x-python",
   "name": "python",
   "nbconvert_exporter": "python",
   "pygments_lexer": "ipython3",
   "version": "3.8.8"
  }
 },
 "nbformat": 4,
 "nbformat_minor": 5
}
