{
 "cells": [
  {
   "cell_type": "code",
   "execution_count": 1,
   "id": "b2124c33",
   "metadata": {},
   "outputs": [],
   "source": [
    "#네이버 데이터 랩에서 데이터 가져오기"
   ]
  },
  {
   "cell_type": "code",
   "execution_count": 2,
   "id": "f081e922",
   "metadata": {},
   "outputs": [
    {
     "name": "stdout",
     "output_type": "stream",
     "text": [
      "시트명을 입력해 주세요: 21\n"
     ]
    }
   ],
   "source": [
    "filename = 'datalab_word.xlsx'\n",
    "#해당 시트명 입력\n",
    "sheetname = input('시트명을 입력해 주세요: ')"
   ]
  },
  {
   "cell_type": "code",
   "execution_count": 3,
   "id": "9d39fa90",
   "metadata": {},
   "outputs": [],
   "source": [
    "# coding : utf-8\n",
    "import os\n",
    "os.getcwd()\n",
    "\n",
    "from selenium import webdriver\n",
    "from bs4 import BeautifulSoup\n",
    "\n",
    "driver = webdriver.Chrome('chromedriver')"
   ]
  },
  {
   "cell_type": "code",
   "execution_count": 4,
   "id": "b5fe1d56",
   "metadata": {},
   "outputs": [
    {
     "data": {
      "text/plain": [
       "<title>네이버 데이터랩</title>"
      ]
     },
     "execution_count": 4,
     "metadata": {},
     "output_type": "execute_result"
    }
   ],
   "source": [
    "url = 'https://datalab.naver.com/'\n",
    "driver.get(url)\n",
    "### 웹 페이지로부터 html source코드를 넘겨받을 수 있다.\n",
    "page = driver.page_source\n",
    "soup = BeautifulSoup(page, 'lxml')\n",
    "soup.title"
   ]
  },
  {
   "cell_type": "code",
   "execution_count": 5,
   "id": "f25c2aa4",
   "metadata": {},
   "outputs": [
    {
     "data": {
      "text/plain": [
       "<span class=\"title_cell\">\n",
       "<span class=\"datetime\">{=datetime}</span>\n",
       "<span class=\"period\"><em>{=range}</em></span>\n",
       "</span>"
      ]
     },
     "execution_count": 5,
     "metadata": {},
     "output_type": "execute_result"
    }
   ],
   "source": [
    "### 날짜 가져오기\n",
    "## 각 날짜의 xpath or bs4를 이용해서 가져온다\n",
    "## 이 요소의 선택 후, 가져와 해당 부분의 text를 확인한다.\n",
    "\n",
    "date_all = soup.find_all('span', class_='title_cell')\n",
    "date_all[13]\n",
    "\n",
    "# //*[@id=\"content\"]/div[1]/div[4]/div/div[1]/div/div/div[9]/div/strong/span\n",
    "# //*[@id=\"content\"]/div[1]/div[4]/div/div[1]/div/div/div[10]/div/strong/span"
   ]
  },
  {
   "cell_type": "code",
   "execution_count": 6,
   "id": "49b08b13",
   "metadata": {},
   "outputs": [
    {
     "name": "stdout",
     "output_type": "stream",
     "text": [
      "14\n"
     ]
    }
   ],
   "source": [
    "# 총 데이터 개수\n",
    "print(len(date_all))"
   ]
  },
  {
   "cell_type": "code",
   "execution_count": 10,
   "id": "848f5eb6",
   "metadata": {},
   "outputs": [
    {
     "name": "stdout",
     "output_type": "stream",
     "text": [
      "2021.09.01.(수)\n",
      "2021.09.02.(목)\n",
      "2021.09.03.(금)\n",
      "2021.09.04.(토)\n",
      "2021.09.05.(일)\n",
      "2021.09.06.(월)\n",
      "2021.09.07.(화)\n",
      "2021.09.08.(수)\n",
      "2021.09.09.(목)\n",
      "2021.09.10.(금)\n",
      "2021.09.11.(토)\n",
      "2021.09.12.(일)\n",
      "\n",
      "\n"
     ]
    }
   ],
   "source": [
    "date_list = []\n",
    "for one in date_all:\n",
    "    if len(one.text):\n",
    "        date_list.append(one.text)\n",
    "        print(one.text)\n",
    "    else:\n",
    "        print(one.text)"
   ]
  },
  {
   "cell_type": "code",
   "execution_count": 11,
   "id": "a8e23652",
   "metadata": {},
   "outputs": [
    {
     "data": {
      "text/plain": [
       "['2021.09.01.(수)',\n",
       " '2021.09.02.(목)',\n",
       " '2021.09.03.(금)',\n",
       " '2021.09.04.(토)',\n",
       " '2021.09.05.(일)',\n",
       " '2021.09.06.(월)',\n",
       " '2021.09.07.(화)',\n",
       " '2021.09.08.(수)',\n",
       " '2021.09.09.(목)',\n",
       " '2021.09.10.(금)',\n",
       " '2021.09.11.(토)',\n",
       " '2021.09.12.(일)']"
      ]
     },
     "execution_count": 11,
     "metadata": {},
     "output_type": "execute_result"
    }
   ],
   "source": [
    "date_list"
   ]
  },
  {
   "cell_type": "code",
   "execution_count": 12,
   "id": "a0325367",
   "metadata": {},
   "outputs": [
    {
     "data": {
      "text/plain": [
       "<selenium.webdriver.remote.webelement.WebElement (session=\"963d0bdab0bacfaf403bd7ddaebc0919\", element=\"a381c350-7d5f-41c2-bb62-c7b781454571\")>"
      ]
     },
     "execution_count": 12,
     "metadata": {},
     "output_type": "execute_result"
    }
   ],
   "source": [
    "#검색어1 : //*[@id=\"content\"]/div[1]/div[4]/div/div[1]/div/div/div[9]/div/div/ul/li[1]/a/span\n",
    "#검색어2 : //*[@id=\"content\"]/div[1]/div[4]/div/div[1]/div/div/div[9]/div/div/ul/li[2]/a/span\n",
    "xpath = '//*[@id=\"content\"]/div[1]/div[4]/div/div[1]/div/div/div[9]/div/div/ul/li[1]/a/span'\n",
    "one_ele = driver.find_element_by_xpath(xpath)\n",
    "one_ele"
   ]
  },
  {
   "cell_type": "code",
   "execution_count": 13,
   "id": "693365ad",
   "metadata": {},
   "outputs": [
    {
     "data": {
      "text/plain": [
       "'원피스'"
      ]
     },
     "execution_count": 13,
     "metadata": {},
     "output_type": "execute_result"
    }
   ],
   "source": [
    "one_ele.text"
   ]
  },
  {
   "cell_type": "code",
   "execution_count": 20,
   "id": "270ff9ca",
   "metadata": {},
   "outputs": [
    {
     "data": {
      "text/plain": [
       "['원피스',\n",
       " '가을원피스',\n",
       " '나이키바람막이',\n",
       " '트위드자켓',\n",
       " '나이키후드티',\n",
       " '후드집업',\n",
       " '바람막이',\n",
       " '반팔티',\n",
       " '반바지',\n",
       " '써스데이아일랜드원피스']"
      ]
     },
     "execution_count": 20,
     "metadata": {},
     "output_type": "execute_result"
    }
   ],
   "source": [
    "pop_word = []\n",
    "for num in range(1,11,1):\n",
    "    xpath_url = '//*[@id=\"content\"]/div[1]/div[4]/div/div[1]/div/div/div[9]/div/div/ul/li[' + str(num) + ']/a/span'\n",
    "    one_ele = driver.find_element_by_xpath(xpath_url)\n",
    "    # print(one_ele.text)\n",
    "    pop_word.append(one_ele.text)\n",
    "pop_word"
   ]
  },
  {
   "cell_type": "code",
   "execution_count": 31,
   "id": "15d2b81b",
   "metadata": {},
   "outputs": [
    {
     "name": "stdout",
     "output_type": "stream",
     "text": [
      "['원피스', '가을원피스', '나이키바람막이', '트위드자켓', '나이키후드티', '후드집업', '바람막이', '반팔티', '반바지', '써스데이아일랜드원피스']\n",
      "['원피스', '가을원피스', '트위드자켓', '나이키바람막이', '나이키후드티', '써스데이아일랜드원피스', '반팔티', '반바지', '팬츠', '바람막이']\n",
      "['원피스', '나이키후드티', '트위드자켓', '나이키바람막이', '가을원피스', '써스데이아일랜드원피스', '반팔티', '맨투맨', '후드집업', '반바지']\n",
      "['원피스', '나이키후드티', '써스데이아일랜드원피스', '가을원피스', '트위드자켓', '나이키바람막이', '바람막이', '후드집업', '맨투맨', '블라우스']\n"
     ]
    }
   ],
   "source": [
    "# //*[@id=\"content\"]/div[1]/div[4]/div/div[1]/div/div/div[10]/div/div/ul/li[1]/a/span\n",
    "# //*[@id=\"content\"]/div[1]/div[4]/div/div[1]/div/div/div[7]/div/strong/span\n",
    "\n",
    "page_start = 9\n",
    "page_end = 12\n",
    "for page in range(page_start, page_end+1, 1):\n",
    "    pop_word=[]\n",
    "    for num in range(1,11,1):\n",
    "        xpath_url = '//*[@id=\"content\"]/div[1]/div[4]/div/div[1]/div/div/div['+ str(page) +']/div/div/ul/li[' + str(num) + ']/a/span'\n",
    "        one_ele = driver.find_element_by_xpath(xpath_url)\n",
    "        # print(one_ele.text)\n",
    "        pop_word.append(one_ele.text)\n",
    "    print(pop_word)\n",
    "    "
   ]
  },
  {
   "cell_type": "code",
   "execution_count": 40,
   "id": "77d065e6",
   "metadata": {},
   "outputs": [
    {
     "name": "stdout",
     "output_type": "stream",
     "text": [
      "2021.09.12.(일)\n",
      "1.원피스\n",
      "2.나이키후드티\n",
      "3.써스데이아일랜드원피스\n",
      "4.가을원피스\n",
      "5.트위드자켓\n",
      "6.나이키바람막이\n",
      "7.바람막이\n",
      "8.후드집업\n",
      "9.맨투맨\n",
      "10.블라우스\n",
      "2021.09.11.(토)\n",
      "1.원피스\n",
      "2.나이키후드티\n",
      "3.트위드자켓\n",
      "4.나이키바람막이\n",
      "5.가을원피스\n",
      "6.써스데이아일랜드원피스\n",
      "7.반팔티\n",
      "8.맨투맨\n",
      "9.후드집업\n",
      "10.반바지\n",
      "2021.09.10.(금)\n",
      "1.원피스\n",
      "2.가을원피스\n",
      "3.트위드자켓\n",
      "4.나이키바람막이\n",
      "5.나이키후드티\n",
      "6.써스데이아일랜드원피스\n",
      "7.반팔티\n",
      "8.반바지\n",
      "9.팬츠\n",
      "10.바람막이\n",
      "2021.09.09.(목)\n",
      "1.원피스\n",
      "2.가을원피스\n",
      "3.나이키바람막이\n",
      "4.트위드자켓\n",
      "5.나이키후드티\n",
      "6.후드집업\n",
      "7.바람막이\n",
      "8.반팔티\n",
      "9.반바지\n",
      "10.써스데이아일랜드원피스\n",
      "2021.09.08.(수)\n",
      "1.원피스\n",
      "2.가을원피스\n",
      "3.나이키바람막이\n",
      "4.나이키후드티\n",
      "5.후드집업\n",
      "6.트위드자켓\n",
      "7.바람막이\n",
      "8.맨투맨\n",
      "9.반팔티\n",
      "10.가디건\n",
      "2021.09.07.(화)\n",
      "1.\n",
      "2.\n",
      "3.\n",
      "4.\n",
      "5.\n",
      "6.\n",
      "7.\n",
      "8.\n",
      "9.\n",
      "10.\n",
      "\n",
      "1.\n",
      "2.\n",
      "3.\n",
      "4.\n",
      "5.\n",
      "6.\n",
      "7.\n",
      "8.\n",
      "9.\n",
      "10.\n",
      "\n",
      "1.\n",
      "2.\n",
      "3.\n",
      "4.\n",
      "5.\n",
      "6.\n",
      "7.\n",
      "8.\n",
      "9.\n",
      "10.\n",
      "\n",
      "1.\n",
      "2.\n",
      "3.\n",
      "4.\n",
      "5.\n",
      "6.\n",
      "7.\n",
      "8.\n",
      "9.\n",
      "10.\n",
      "\n",
      "1.\n",
      "2.\n",
      "3.\n",
      "4.\n",
      "5.\n",
      "6.\n",
      "7.\n",
      "8.\n",
      "9.\n",
      "10.\n",
      "\n",
      "1.\n",
      "2.\n",
      "3.\n",
      "4.\n",
      "5.\n",
      "6.\n",
      "7.\n",
      "8.\n",
      "9.\n",
      "10.\n",
      "\n",
      "1.\n",
      "2.\n",
      "3.\n",
      "4.\n",
      "5.\n",
      "6.\n",
      "7.\n",
      "8.\n",
      "9.\n",
      "10.\n"
     ]
    }
   ],
   "source": [
    "pop_word = []\n",
    "for date in range(12, 0, -1) :\n",
    "    date_url = '//*[@id=\"content\"]/div[1]/div[4]/div/div[1]/div/div/div[' + str(date) + ']/div/strong/span'\n",
    "    date_text = driver.find_element_by_xpath(date_url)\n",
    "    pop_word.append(date_text.text)\n",
    "    \n",
    "    for num in range(1, 11, 1) :\n",
    "        xpath_url = '//*[@id=\"content\"]/div[1]/div[4]/div/div[1]/div/div/div[' + str(date) + ']/div/div/ul/li[' + str(num) + ']/a/span'\n",
    "        one_item = driver.find_element_by_xpath(xpath_url)\n",
    "        pop_word.append(str(num) + \".\" + one_item.text)\n",
    "    \n",
    "    if date <= 9 :\n",
    "        button = driver.find_element_by_xpath('//*[@id=\"content\"]/div[1]/div[4]/div/div[1]/div/a[1]')\n",
    "        button.click()\n",
    "        time.sleep(5)\n",
    "        \n",
    "for i in pop_word :\n",
    "    print(i)"
   ]
  },
  {
   "cell_type": "code",
   "execution_count": null,
   "id": "a90be55c",
   "metadata": {},
   "outputs": [],
   "source": []
  }
 ],
 "metadata": {
  "kernelspec": {
   "display_name": "Python 3",
   "language": "python",
   "name": "python3"
  },
  "language_info": {
   "codemirror_mode": {
    "name": "ipython",
    "version": 3
   },
   "file_extension": ".py",
   "mimetype": "text/x-python",
   "name": "python",
   "nbconvert_exporter": "python",
   "pygments_lexer": "ipython3",
   "version": "3.8.8"
  }
 },
 "nbformat": 4,
 "nbformat_minor": 5
}
