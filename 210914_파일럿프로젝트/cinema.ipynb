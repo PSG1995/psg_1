{
 "cells": [
  {
   "cell_type": "code",
   "execution_count": 1,
   "id": "864bb957",
   "metadata": {},
   "outputs": [],
   "source": [
    "#-*- coding: utf-8 -*-\n",
    "from selenium import webdriver\n",
    "from bs4 import BeautifulSoup\n",
    "import time\n",
    "import pandas as pd\n"
   ]
  },
  {
   "cell_type": "code",
   "execution_count": 2,
   "id": "27a47107",
   "metadata": {},
   "outputs": [],
   "source": [
    "url = 'https://www.kobis.or.kr/kobis/business/stat/them/findMonthlyTotalList.do'\n",
    "start = time.time()\n",
    "driver = webdriver.Chrome(\"chromedriver\")\n",
    "driver.get(url)\n",
    "page = driver.page_source\n",
    "soup = BeautifulSoup(page, 'lxml')\n"
   ]
  },
  {
   "cell_type": "code",
   "execution_count": 3,
   "id": "cdb80cf6",
   "metadata": {},
   "outputs": [],
   "source": [
    "# 2021년은 8월까지 밖에없어서 따로 뻄(추후에 if문 넣어서 합칠예정)\n",
    "cinema_info_0 = []\n",
    "cinema_info_1 = []\n",
    "cinema_info_2 = []\n",
    "cinema_info_3 = []\n",
    "cinema_info_4 = []\n",
    "\n",
    "for num in range(1,10,1):\n",
    "    xpath_url = '//*[@id=\"content\"]/div[4]/div[2]/table/tbody/tr[' + str(num) + ']/td[1]'\n",
    "    domestic_release = driver.find_element_by_xpath(xpath_url)\n",
    "    cinema_info_0.append(domestic_release.text)\n",
    "for num in range(1,10,1):\n",
    "    xpath_url = '//*[@id=\"content\"]/div[4]/div[2]/table/tbody/tr[' + str(num) + ']/td[2]'\n",
    "    domestic_release = driver.find_element_by_xpath(xpath_url)\n",
    "    cinema_info_1.append(domestic_release.text)\n",
    "for num in range(1,10,1):\n",
    "    xpath_url = '//*[@id=\"content\"]/div[4]/div[2]/table/tbody/tr[' + str(num) + ']/td[3]'\n",
    "    domestic_release = driver.find_element_by_xpath(xpath_url)\n",
    "    cinema_info_2.append(domestic_release.text)\n",
    "for num in range(1,10,1):\n",
    "    xpath_url = '//*[@id=\"content\"]/div[4]/div[2]/table/tbody/tr[' + str(num) + ']/td[4]'\n",
    "    domestic_release = driver.find_element_by_xpath(xpath_url)\n",
    "    cinema_info_3.append(domestic_release.text)\n",
    "for num in range(1,10,1):\n",
    "    xpath_url = '//*[@id=\"content\"]/div[4]/div[2]/table/tbody/tr[' + str(num) + ']/td[5]'\n",
    "    domestic_release = driver.find_element_by_xpath(xpath_url)\n",
    "    cinema_info_4.append(domestic_release.text)"
   ]
  },
  {
   "cell_type": "code",
   "execution_count": 4,
   "id": "9a10b26f",
   "metadata": {},
   "outputs": [],
   "source": [
    "for num in range(1,10,1):\n",
    "    time.sleep(1)\n",
    "    period = driver.find_element_by_xpath('//*[@id=\"selectYear\"]') # 조회기간\n",
    "    period.click()\n",
    "    value = driver.find_element_by_xpath('//*[@id=\"selectYear\"]/option['+ str(num+1) +']') # 해당연도\n",
    "    value.click()\n",
    "    enter = driver.find_element_by_xpath('//*[@id=\"searchForm\"]/div/div[2]/button') # 조회\n",
    "    enter.click()\n",
    "    page = driver.page_source\n",
    "    soup = BeautifulSoup(page, 'lxml')\n",
    "\n",
    "    for num in range(1,13,1):\n",
    "        xpath_url = '//*[@id=\"content\"]/div[4]/div[2]/table/tbody/tr[' + str(num) + ']/td[1]'\n",
    "        domestic_release = driver.find_element_by_xpath(xpath_url)\n",
    "        cinema_info_0.append(domestic_release.text)\n",
    "    for num in range(1,13,1):\n",
    "        xpath_url = '//*[@id=\"content\"]/div[4]/div[2]/table/tbody/tr[' + str(num) + ']/td[2]'\n",
    "        domestic_release = driver.find_element_by_xpath(xpath_url)\n",
    "        cinema_info_1.append(domestic_release.text)\n",
    "    for num in range(1,13,1):\n",
    "        xpath_url = '//*[@id=\"content\"]/div[4]/div[2]/table/tbody/tr[' + str(num) + ']/td[3]'\n",
    "        domestic_release = driver.find_element_by_xpath(xpath_url)\n",
    "        cinema_info_2.append(domestic_release.text)\n",
    "    for num in range(1,13,1):\n",
    "        xpath_url = '//*[@id=\"content\"]/div[4]/div[2]/table/tbody/tr[' + str(num) + ']/td[4]'\n",
    "        domestic_release = driver.find_element_by_xpath(xpath_url)\n",
    "        cinema_info_3.append(domestic_release.text)\n",
    "    for num in range(1,13,1):\n",
    "        xpath_url = '//*[@id=\"content\"]/div[4]/div[2]/table/tbody/tr[' + str(num) + ']/td[5]'\n",
    "        domestic_release = driver.find_element_by_xpath(xpath_url)\n",
    "        cinema_info_4.append(domestic_release.text)\n"
   ]
  },
  {
   "cell_type": "code",
   "execution_count": 6,
   "id": "31d58577",
   "metadata": {},
   "outputs": [],
   "source": [
    "dat_dict = {\n",
    "    \"년월\":cinema_info_0, \"개봉편수\":cinema_info_1, \"상영편수\":cinema_info_2, \"매출액\":cinema_info_3, \"관객수\": cinema_info_4}\n",
    "dat = pd.DataFrame(dat_dict)\n",
    "dat.to_csv(\"영화관정보_국내.csv\", index = False)\n",
    "dat.to_excel(\"영화관정보_국내.xlsx\", index = False)"
   ]
  },
  {
   "cell_type": "code",
   "execution_count": null,
   "id": "195ec49f",
   "metadata": {},
   "outputs": [],
   "source": []
  }
 ],
 "metadata": {
  "kernelspec": {
   "display_name": "Python 3",
   "language": "python",
   "name": "python3"
  },
  "language_info": {
   "codemirror_mode": {
    "name": "ipython",
    "version": 3
   },
   "file_extension": ".py",
   "mimetype": "text/x-python",
   "name": "python",
   "nbconvert_exporter": "python",
   "pygments_lexer": "ipython3",
   "version": "3.8.8"
  }
 },
 "nbformat": 4,
 "nbformat_minor": 5
}
