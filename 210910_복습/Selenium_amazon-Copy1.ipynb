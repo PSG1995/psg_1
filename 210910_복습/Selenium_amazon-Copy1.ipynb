{
 "cells": [
  {
   "cell_type": "code",
   "execution_count": 1,
   "id": "1ab99986",
   "metadata": {},
   "outputs": [],
   "source": [
    "from selenium import webdriver\n",
    "from bs4 import BeautifulSoup"
   ]
  },
  {
   "cell_type": "code",
   "execution_count": 2,
   "id": "3ba62708",
   "metadata": {},
   "outputs": [],
   "source": [
    "import time\n",
    "\n",
    "url = 'https://www.amazon.com/'\n",
    "start = time.time()\n",
    "driver = webdriver.Chrome(r\"C:\\Users\\qkrtm\\OneDrive\\문서\\GitHub\\psg_1\\web_data\\data\\chromedriver.exe\")\n",
    "driver.get(url)"
   ]
  },
  {
   "cell_type": "code",
   "execution_count": 3,
   "id": "f8e62137",
   "metadata": {},
   "outputs": [],
   "source": [
    "sel_input = driver.find_element_by_xpath('//*[@id=\"twotabsearchtextbox\"]')\n",
    "sel_search = driver.find_element_by_xpath('//*[@id=\"nav-search-submit-button\"]')\n"
   ]
  },
  {
   "cell_type": "code",
   "execution_count": 4,
   "id": "e78b5f86",
   "metadata": {},
   "outputs": [],
   "source": [
    "# 검색창에 값 입력\n",
    "word = \"computer\"\n",
    "sel_input.clear()\n",
    "sel_input.send_keys(word)\n",
    "sel_search.click()\n"
   ]
  },
  {
   "cell_type": "code",
   "execution_count": 5,
   "id": "02714b58",
   "metadata": {},
   "outputs": [
    {
     "data": {
      "text/plain": [
       "<title>Amazon.com : computer</title>"
      ]
     },
     "execution_count": 5,
     "metadata": {},
     "output_type": "execute_result"
    }
   ],
   "source": [
    "page = driver.page_source\n",
    "soup = BeautifulSoup(page, 'html.parser')\n",
    "# soup.find_all('span', class_='a-size-medium a-color-base a-text-normal')\n",
    "soup.title"
   ]
  },
  {
   "cell_type": "code",
   "execution_count": 6,
   "id": "a5d4d4c8",
   "metadata": {},
   "outputs": [
    {
     "data": {
      "text/plain": [
       "'https://www.amazon.com/s?k=computer&ref=nb_sb_noss'"
      ]
     },
     "execution_count": 6,
     "metadata": {},
     "output_type": "execute_result"
    }
   ],
   "source": [
    "current_url = driver.current_url\n",
    "current_url"
   ]
  },
  {
   "cell_type": "code",
   "execution_count": 7,
   "id": "5f1fba40",
   "metadata": {},
   "outputs": [
    {
     "name": "stdout",
     "output_type": "stream",
     "text": [
      "<h2 class=\"a-size-mini a-spacing-none a-color-base s-line-clamp-2\"><a class=\"a-link-normal a-text-normal\" href=\"/gp/slredirect/picassoRedirect.html/ref=pa_sp_atf_aps_sr_pg1_1?ie=UTF8&amp;adId=A06863101ZSXBPDRAFBUR&amp;url=%2FHP-ProDesk-Factor-Desktop-Computer%2Fdp%2FB09DZ2HSK7%2Fref%3Dsr_1_1_sspa%3Fdchild%3D1%26keywords%3Dcomputer%26qid%3D1631455300%26sr%3D8-1-spons%26psc%3D1&amp;qualifier=1631455300&amp;id=2522563701514694&amp;widgetName=sp_atf\"><span class=\"a-size-medium a-color-base a-text-normal\">HP ProDesk 400 G7 Small Form Factor Desktop Computer - Intel Core i5-8GB RAM - 512GB SSD - Windows 10 Pro (64-Bit) + Zipnology Screen Cleaning Cloth Bundle + Mouse + Keyboard</span> </a> </h2>\n",
      "HP ProDesk 400 G7 Small Form Factor Desktop Computer - Intel Core i5-8GB RAM - 512GB SSD - Windows 10 Pro (64-Bit) + Zipnology Screen Cleaning Cloth Bundle + Mouse + Keyboard\n",
      "\n",
      "/gp/slredirect/picassoRedirect.html/ref=pa_sp_atf_aps_sr_pg1_1?ie=UTF8&adId=A06863101ZSXBPDRAFBUR&url=%2FHP-ProDesk-Factor-Desktop-Computer%2Fdp%2FB09DZ2HSK7%2Fref%3Dsr_1_1_sspa%3Fdchild%3D1%26keywords%3Dcomputer%26qid%3D1631455300%26sr%3D8-1-spons%26psc%3D1&qualifier=1631455300&id=2522563701514694&widgetName=sp_atf\n"
     ]
    }
   ],
   "source": [
    "tmp = soup.find_all('h2', class_='a-size-mini a-spacing-none a-color-base s-line-clamp-2')[0]\n",
    "print(tmp)\n",
    "print(tmp.span.text)\n",
    "print()\n",
    "print(tmp.a.attrs['href'])"
   ]
  },
  {
   "cell_type": "code",
   "execution_count": 8,
   "id": "7d580257",
   "metadata": {},
   "outputs": [
    {
     "data": {
      "text/plain": [
       "'https://www.amazon.com/s?k=computer&ref=nb_sb_noss/gp/slredirect/picassoRedirect.html/ref=pa_sp_atf_aps_sr_pg1_1?ie=UTF8&adId=A06863101ZSXBPDRAFBUR&url=%2FHP-ProDesk-Factor-Desktop-Computer%2Fdp%2FB09DZ2HSK7%2Fref%3Dsr_1_1_sspa%3Fdchild%3D1%26keywords%3Dcomputer%26qid%3D1631455300%26sr%3D8-1-spons%26psc%3D1&qualifier=1631455300&id=2522563701514694&widgetName=sp_atf'"
      ]
     },
     "execution_count": 8,
     "metadata": {},
     "output_type": "execute_result"
    }
   ],
   "source": [
    "# 전체 url을 얻는다.\n",
    "current_url + tmp.a.attrs['href']"
   ]
  },
  {
   "cell_type": "code",
   "execution_count": 9,
   "id": "1f00db3e",
   "metadata": {},
   "outputs": [],
   "source": [
    "url1 = 'https://www.amazon.com/HP-24-inch-Computer-Processor-24-dd0010/dp/B0849GZCQR/ref=sr_1_2?dchild=1&keywords=computer&qid=1631254252&sr=8-2'\n",
    "driver.get(url1)"
   ]
  },
  {
   "cell_type": "code",
   "execution_count": 10,
   "id": "7419d206",
   "metadata": {},
   "outputs": [],
   "source": [
    "### 첫번째 리뷰 선택 : //*[@id=\"customer_review-R3D8KIJMKLZELF\"]/div[4]/span/div/div[1]\n",
    "first_review = driver.find_element_by_xpath('//*[@id=\"customer_review-R3D8KIJMKLZELF\"]/div[4]/span/div/div[1]')"
   ]
  },
  {
   "cell_type": "code",
   "execution_count": 12,
   "id": "a21aaa66",
   "metadata": {},
   "outputs": [],
   "source": [
    "### 두번째 리뷰 선택 : //*[@id=\"reviews-medley-footer\"]/div[2]/a\n",
    "second_review = driver.find_element_by_xpath('//*[@id=\"reviews-medley-footer\"]/div[2]/a')\n",
    "second_review.click()"
   ]
  },
  {
   "cell_type": "code",
   "execution_count": 13,
   "id": "ad5086b4",
   "metadata": {},
   "outputs": [
    {
     "data": {
      "text/plain": [
       "<title>Amazon.com: Customer reviews: HP 24-inch All-in-One Desktop Computer, AMD Athlon Silver 3050U Processor, 8 GB RAM, 256 GB SSD, Windows 10 Home (24-dd0010, White)</title>"
      ]
     },
     "execution_count": 13,
     "metadata": {},
     "output_type": "execute_result"
    }
   ],
   "source": [
    "page = driver.page_source   # 하나의 페이지 정보 전달\n",
    "soup = BeautifulSoup(page, 'lxml')\n",
    "soup.title"
   ]
  },
  {
   "cell_type": "code",
   "execution_count": 14,
   "id": "cc180e7f",
   "metadata": {},
   "outputs": [
    {
     "data": {
      "text/plain": [
       "\"This is the worst computer that I've ever owned , I have high speed internet and nothing has ben uploaded in this computer and it's so slow that it's just shy of me taking a hammer to it,this computer took me back to dialup that's how slow it is. I bought it for my business that I open on Oct. 15th and really dont think it's going to work out wish I could return it\""
      ]
     },
     "execution_count": 14,
     "metadata": {},
     "output_type": "execute_result"
    }
   ],
   "source": [
    "# 하나의 정보 확인\n",
    "txt = soup.find_all(\"span\", class_=\"a-size-base review-text review-text-content\")\n",
    "txt[0].text.strip()"
   ]
  },
  {
   "cell_type": "code",
   "execution_count": 15,
   "id": "9804826e",
   "metadata": {},
   "outputs": [
    {
     "data": {
      "text/plain": [
       "[\"This is the worst computer that I've ever owned , I have high speed internet and nothing has ben uploaded in this computer and it's so slow that it's just shy of me taking a hammer to it,this computer took me back to dialup that's how slow it is. I bought it for my business that I open on Oct. 15th and really dont think it's going to work out wish I could return it\",\n",
       " 'I am very happy with the design of the computer. It is thin and looks great. The 24\" screen is bright and has a good resolution. I find the speed to be adequate as well. The set up was easy, and I was able to get it set up the way I wanted almost immediately. It was much quicker than I thought it would be.  If I had a complaint it would be that the DVD drawer on the side seems to be a little flimsy. I feel like I have to be extra careful with it. I like the keyboard but not the mouse. Probably just a personal preference. Otherwise, I am very happy with my purchase.',\n",
       " 'I honestly am just going to be up front. With Covid, we we employees at my job were all sent home to work and I bought this sweet desk. Well we\\'ve since (just managers) have been brought back to the site. I have a laptop and perfectly capable s20 ultra. But I felt depressed with this desk I pimped out with led lights and cool pics of all of my family. So thats why I got this. <<wrote all this and now 6 short months later I don\\'t even use it. It\\'s slow, loud, cheaply made. The specs seemed to be that of meeting my needs. I can\\'t even play YouTube vids past 1080p. My 3 year old laptop xps is way more on point. I ended up buying a 34\" ultrawide curved monitor and have the laptop hidden behind that which is such a better option. I\\'m trying to give this thing away. Its just not what its cut out to be. :( first pic there it sits next to my old dual monitors (work from home). And second pic is what I now use. Third pic. Buy a nice monitor and a small but good laptop and boom.',\n",
       " 'Very slow to boot up.Too much bloatware to uninstalled.',\n",
       " 'My wife and I use a computer like old people so this computer is perfect for us. We have also found that HP is a great brand when it comes to computers and printers. Our 300.00 laptop we bought 5 years ago still works great too. If you are looking for a good basic desk top that does not take up a lot space and works like a charm then this will work great for you.',\n",
       " 'This is a great computer (has been the last three weeks). I am a young, impatient, business owner and was fully expecting to return this if it showed and signs of sluggishness, I realized I didn’t spend much on it but figured I would try it out. I don’t do gaming or anything but the picture quality is nice and it is fast to do anything a computer should be fast at, the extent of what I do is load large architectural drawings and this does a pretty good job there!It looks nice and modern on my desk, speakers are good I think but I use a Bluetooth either way.I bought my own wireless keyboard and mouse prior to receiving it and after doing some research.If you’re not creating video content or gaming, this is an amazing computer for general use and I definitely suggest it!',\n",
       " 'Love how clean and tucked away everything is.  Love the big screen and it’s great for watching Ghost Adventures on Hulu! 😁',\n",
       " \"I like the all in one feature on this. The last 3 laptops I had all had issues with the opening and closing, the wires got crossed or the plastic hinges fell apart and it just wouldn't work any longer. So I love this one. Of course I can't take it with me when I go somewhere, but I have a tablet and can use that when I'm on the go. The screen on this is amazing, the speed is good and it has a large memory. I'm loving it so far.\",\n",
       " 'I love this computer. I use it mostly for completing school work but sometimes play games. The only thing I don’t like is that there is a loud buzzing sound when it’s been running for a while. I’m assuming it’s the fan inside. Otherwise everything works great.',\n",
       " \"This was an impressive computer in all respects, except 3 months after delivery it went dead.  Unresponsive to its power button, mouse or keyboard and automatic repair.  No way to get into it to even return to factory defaults and HP would not assist me in taking out the hard drive.  I did get Amazon's guarantee they would wipe the hard drive when it was returned.  I liked this model so much I bought another one, but from another vendor because Amazon was out of stock.\"]"
      ]
     },
     "execution_count": 15,
     "metadata": {},
     "output_type": "execute_result"
    }
   ],
   "source": [
    "all_r = soup.find_all(\"span\", class_=\"a-size-base review-text review-text-content\")\n",
    "\n",
    "all_review = []\n",
    "for one in all_r:\n",
    "    tmp = one.text\n",
    "    review = tmp.strip()\n",
    "    all_review.append(review)\n",
    "    \n",
    "all_review"
   ]
  },
  {
   "cell_type": "code",
   "execution_count": 16,
   "id": "7ee49032",
   "metadata": {},
   "outputs": [],
   "source": [
    "import pandas as pd\n",
    "dict_review = {\"아마존 컴퓨터 리뷰\": all_review}\n",
    "dat = pd.DataFrame(dict_review)\n",
    "dat.to_csv(\"아마존 컴퓨터리뷰.csv\", index= False)"
   ]
  },
  {
   "cell_type": "code",
   "execution_count": null,
   "id": "ebbc7e78",
   "metadata": {},
   "outputs": [],
   "source": []
  }
 ],
 "metadata": {
  "kernelspec": {
   "display_name": "Python 3",
   "language": "python",
   "name": "python3"
  },
  "language_info": {
   "codemirror_mode": {
    "name": "ipython",
    "version": 3
   },
   "file_extension": ".py",
   "mimetype": "text/x-python",
   "name": "python",
   "nbconvert_exporter": "python",
   "pygments_lexer": "ipython3",
   "version": "3.8.8"
  }
 },
 "nbformat": 4,
 "nbformat_minor": 5
}
